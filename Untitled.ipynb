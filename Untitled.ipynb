{
 "cells": [
  {
   "cell_type": "markdown",
   "id": "2e908cc9-30ff-44f8-8e48-a236ed79b09b",
   "metadata": {},
   "source": [
    "How to Deploy?\n",
    "For SMS Monitoring"
   ]
  },
  {
   "cell_type": "code",
   "execution_count": null,
   "id": "3912a4db-f3a8-403c-87d5-961c3a3345f2",
   "metadata": {},
   "outputs": [],
   "source": [
    "from twilio.rest import Client\n",
    "client = Client(os.getenv('TWILIO_SID'), os.getenv('TWILIO_AUTH_TOKEN'))\n",
    "\n",
    "def monitor_sms():\n",
    "    messages = client.messages.list(limit=100)\n",
    "    for msg in messages:\n",
    "        detector.analyze_message(msg.body)"
   ]
  },
  {
   "cell_type": "markdown",
   "id": "fe580947-9f70-4a78-a9e0-c17cbc63816b",
   "metadata": {},
   "source": [
    "For Email Scanning\n",
    "Use Gmail API to fetch and analyze emails.\n",
    "\n",
    "For Chat Apps\n",
    "Build a Telegram bot with python-telegram-bot."
   ]
  },
  {
   "cell_type": "code",
   "execution_count": null,
   "id": "88c5f3c5-402a-44d8-a807-e4dd6d89e350",
   "metadata": {},
   "outputs": [],
   "source": []
  }
 ],
 "metadata": {
  "kernelspec": {
   "display_name": "Python 3 (ipykernel)",
   "language": "python",
   "name": "python3"
  },
  "language_info": {
   "codemirror_mode": {
    "name": "ipython",
    "version": 3
   },
   "file_extension": ".py",
   "mimetype": "text/x-python",
   "name": "python",
   "nbconvert_exporter": "python",
   "pygments_lexer": "ipython3",
   "version": "3.12.3"
  }
 },
 "nbformat": 4,
 "nbformat_minor": 5
}
