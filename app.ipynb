{
 "cells": [
  {
   "cell_type": "markdown",
   "id": "c473cfb0-36fa-4486-a80e-f991ba4b3f83",
   "metadata": {},
   "source": [
    "Real-Time Monitoring System"
   ]
  },
  {
   "cell_type": "code",
   "execution_count": null,
   "id": "bb9d863b-34ac-406d-ac0b-8afdcc8589ab",
   "metadata": {},
   "outputs": [],
   "source": [
    "from flask import Flask, request, jsonify\n",
    "from detector import FraudDetector\n",
    "import os\n",
    "from dotenv import load_dotenv\n",
    "\n",
    "app = Flask(__name__)\n",
    "detector = FraudDetector()\n",
    "\n",
    "@app.route('/analyze', methods=['POST'])\n",
    "def analyze():\n",
    "    data = request.json\n",
    "    message = data.get('message', '')\n",
    "    \n",
    "    results = detector.analyze_message(message)\n",
    "    \n",
    "    # Take action if fraud detected\n",
    "    if results['threat_analysis']['is_threat']:\n",
    "        send_alert(\"THREAT DETECTED: \" + message)\n",
    "    elif results['tax_analysis']['is_tax_fraud']:\n",
    "        send_alert(\"POSSIBLE TAX EVASION: \" + message)\n",
    "    \n",
    "    return jsonify(results)\n",
    "\n",
    "def send_alert(msg):\n",
    "    # Integrate with Twilio/Telegram/Slack\n",
    "    print(f\"[ALERT] {msg}\")\n",
    "\n",
    "if __name__ == '__main__':\n",
    "    app.run(port=5000)"
   ]
  }
 ],
 "metadata": {
  "kernelspec": {
   "display_name": "Python 3 (ipykernel)",
   "language": "python",
   "name": "python3"
  },
  "language_info": {
   "codemirror_mode": {
    "name": "ipython",
    "version": 3
   },
   "file_extension": ".py",
   "mimetype": "text/x-python",
   "name": "python",
   "nbconvert_exporter": "python",
   "pygments_lexer": "ipython3",
   "version": "3.12.3"
  }
 },
 "nbformat": 4,
 "nbformat_minor": 5
}
