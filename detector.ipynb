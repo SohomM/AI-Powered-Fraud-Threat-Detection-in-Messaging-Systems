{
 "cells": [
  {
   "cell_type": "markdown",
   "id": "cbff19aa-7832-49a4-85f5-f5ffe63612ca",
   "metadata": {},
   "source": [
    "Setup & Dependencies"
   ]
  },
  {
   "cell_type": "code",
   "execution_count": null,
   "id": "3f64d385-14ba-4d40-b6f2-2b1417c4428e",
   "metadata": {},
   "outputs": [],
   "source": [
    "pip install nltk pandas sklearn flask python-dotenv twilio"
   ]
  },
  {
   "cell_type": "markdown",
   "id": "35f6bfad-782b-47aa-8380-5016357426f8",
   "metadata": {},
   "source": [
    "Fraud Detection Engine"
   ]
  },
  {
   "cell_type": "code",
   "execution_count": null,
   "id": "a7a8b69f-75d3-440c-8c12-57cf46c5fa70",
   "metadata": {},
   "outputs": [],
   "source": [
    "import re\n",
    "import nltk\n",
    "from nltk.sentiment import SentimentIntensityAnalyzer\n",
    "from sklearn.feature_extraction.text import TfidfVectorizer\n",
    "from sklearn.linear_model import LogisticRegression\n",
    "import joblib\n",
    "\n",
    "nltk.download('vader_lexicon')\n",
    "\n",
    "class FraudDetector:\n",
    "    def __init__(self):\n",
    "        self.sia = SentimentIntensityAnalyzer()\n",
    "        self.tax_evasion_keywords = [\"pay cash\", \"no invoice\", \"avoid tax\", \"black money\"]\n",
    "        self.threat_keywords = [\"pay or else\", \"leak your data\", \"harm you\"]\n",
    "        self.phishing_keywords = [\"urgent action\", \"verify account\", \"click link\"]\n",
    "        \n",
    "        # Load pre-trained model (train separately)\n",
    "        self.model = joblib.load('fraud_model.pkl')  \n",
    "        self.vectorizer = joblib.load('tfidf_vectorizer.pkl')\n",
    "\n",
    "    def detect_threats(self, text):\n",
    "        # Rule-based checks\n",
    "        threats_found = any(keyword in text.lower() for keyword in self.threat_keywords)\n",
    "        \n",
    "        # ML-based classification\n",
    "        text_vec = self.vectorizer.transform([text])\n",
    "        ml_prediction = self.model.predict(text_vec)[0]\n",
    "        \n",
    "        return {\n",
    "            \"is_threat\": threats_found or (ml_prediction == \"threat\"),\n",
    "            \"reason\": \"Threatening language detected\" if threats_found else \"ML model flagged as threat\"\n",
    "        }\n",
    "\n",
    "    def detect_tax_fraud(self, text):\n",
    "        tax_evasion = any(re.search(rf\"\\b{kw}\\b\", text.lower()) for kw in self.tax_evasion_keywords)\n",
    "        return {\n",
    "            \"is_tax_fraud\": tax_evasion,\n",
    "            \"keywords_found\": [kw for kw in self.tax_evasion_keywords if kw in text.lower()]\n",
    "        }\n",
    "\n",
    "    def analyze_message(self, text):\n",
    "        return {\n",
    "            \"threat_analysis\": self.detect_threats(text),\n",
    "            \"tax_analysis\": self.detect_tax_fraud(text),\n",
    "            \"sentiment\": self.sia.polarity_scores(text)\n",
    "        }"
   ]
  }
 ],
 "metadata": {
  "kernelspec": {
   "display_name": "Python 3 (ipykernel)",
   "language": "python",
   "name": "python3"
  },
  "language_info": {
   "codemirror_mode": {
    "name": "ipython",
    "version": 3
   },
   "file_extension": ".py",
   "mimetype": "text/x-python",
   "name": "python",
   "nbconvert_exporter": "python",
   "pygments_lexer": "ipython3",
   "version": "3.12.3"
  }
 },
 "nbformat": 4,
 "nbformat_minor": 5
}
