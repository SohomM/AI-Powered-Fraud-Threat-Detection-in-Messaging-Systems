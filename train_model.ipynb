{
 "cells": [
  {
   "cell_type": "markdown",
   "id": "9d5b1b4a-43f3-4384-bc29-ab8522f1574f",
   "metadata": {},
   "source": [
    "Training the ML Model"
   ]
  },
  {
   "cell_type": "code",
   "execution_count": null,
   "id": "673192c1-12f6-48ca-8781-a9298cdbb9a4",
   "metadata": {},
   "outputs": [],
   "source": [
    "import pandas as pd\n",
    "from sklearn.model_selection import train_test_split\n",
    "from sklearn.feature_extraction.text import TfidfVectorizer\n",
    "from sklearn.linear_model import LogisticRegression\n",
    "import joblib\n",
    "\n",
    "# Sample dataset (expand with real fraud/threat messages)\n",
    "data = pd.DataFrame([\n",
    "    {\"text\": \"Pay $1000 or we leak your photos\", \"label\": \"threat\"},\n",
    "    {\"text\": \"Let's deal in cash to avoid GST\", \"label\": \"tax_fraud\"},\n",
    "    {\"text\": \"Hi, how are you?\", \"label\": \"safe\"}\n",
    "])\n",
    "\n",
    "X = data['text']\n",
    "y = data['label']\n",
    "\n",
    "# Feature extraction\n",
    "vectorizer = TfidfVectorizer(max_features=1000)\n",
    "X_vec = vectorizer.fit_transform(X)\n",
    "\n",
    "# Train model\n",
    "model = LogisticRegression()\n",
    "model.fit(X_vec, y)\n",
    "\n",
    "# Save for production\n",
    "joblib.dump(model, 'fraud_model.pkl')\n",
    "joblib.dump(vectorizer, 'tfidf_vectorizer.pkl')"
   ]
  }
 ],
 "metadata": {
  "kernelspec": {
   "display_name": "Python 3 (ipykernel)",
   "language": "python",
   "name": "python3"
  },
  "language_info": {
   "codemirror_mode": {
    "name": "ipython",
    "version": 3
   },
   "file_extension": ".py",
   "mimetype": "text/x-python",
   "name": "python",
   "nbconvert_exporter": "python",
   "pygments_lexer": "ipython3",
   "version": "3.12.3"
  }
 },
 "nbformat": 4,
 "nbformat_minor": 5
}
